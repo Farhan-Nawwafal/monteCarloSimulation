{
 "cells": [
  {
   "cell_type": "markdown",
   "metadata": {},
   "source": [
    "# Tugas Simulasi Monte Carlo menggunakan Supplements Sales Data  \n",
    "`Anggota Kelompok 4` :  \n",
    "1. Idin Naufal Hakim - NIM\n",
    "2. Muhammad Faishal Rahmani - NIM\n",
    "3. Farhan Nawwafal Pramudia - 10123470"
   ]
  },
  {
   "cell_type": "markdown",
   "metadata": {},
   "source": [
    "## Mengimport Library yang Dibutuhkan"
   ]
  },
  {
   "cell_type": "code",
   "execution_count": 7,
   "metadata": {},
   "outputs": [],
   "source": [
    "import numpy as np\n",
    "import pandas as pd\n",
    "import matplotlib.pyplot as plt"
   ]
  },
  {
   "cell_type": "markdown",
   "metadata": {},
   "source": [
    "## Data Wrangling"
   ]
  },
  {
   "cell_type": "markdown",
   "metadata": {},
   "source": [
    "### Gathering Data"
   ]
  },
  {
   "cell_type": "code",
   "execution_count": 8,
   "metadata": {},
   "outputs": [],
   "source": [
    "df = pd.read_excel('../data/supplements-sales-data.xlsx')\n",
    "df.head()"
   ]
  },
  {
   "cell_type": "code",
   "execution_count": null,
   "metadata": {},
   "outputs": [
    {
     "data": {
      "text/html": [
       "<div>\n",
       "<style scoped>\n",
       "    .dataframe tbody tr th:only-of-type {\n",
       "        vertical-align: middle;\n",
       "    }\n",
       "\n",
       "    .dataframe tbody tr th {\n",
       "        vertical-align: top;\n",
       "    }\n",
       "\n",
       "    .dataframe thead th {\n",
       "        text-align: right;\n",
       "    }\n",
       "</style>\n",
       "<table border=\"1\" class=\"dataframe\">\n",
       "  <thead>\n",
       "    <tr style=\"text-align: right;\">\n",
       "      <th></th>\n",
       "      <th>Date</th>\n",
       "      <th>Product Name</th>\n",
       "      <th>Category</th>\n",
       "      <th>Units Sold</th>\n",
       "      <th>Price</th>\n",
       "      <th>Revenue</th>\n",
       "      <th>Discount</th>\n",
       "      <th>Units Returned</th>\n",
       "      <th>Location</th>\n",
       "      <th>Platform</th>\n",
       "    </tr>\n",
       "  </thead>\n",
       "  <tbody>\n",
       "    <tr>\n",
       "      <th>4379</th>\n",
       "      <td>2025-03-31</td>\n",
       "      <td>Melatonin</td>\n",
       "      <td>Sleep Aid</td>\n",
       "      <td>160</td>\n",
       "      <td>4779</td>\n",
       "      <td>76464</td>\n",
       "      <td>21</td>\n",
       "      <td>1</td>\n",
       "      <td>USA</td>\n",
       "      <td>iHerb</td>\n",
       "    </tr>\n",
       "    <tr>\n",
       "      <th>4380</th>\n",
       "      <td>2025-03-31</td>\n",
       "      <td>Biotin</td>\n",
       "      <td>Vitamin</td>\n",
       "      <td>154</td>\n",
       "      <td>3812</td>\n",
       "      <td>587048</td>\n",
       "      <td>22</td>\n",
       "      <td>1</td>\n",
       "      <td>UK</td>\n",
       "      <td>Walmart</td>\n",
       "    </tr>\n",
       "    <tr>\n",
       "      <th>4381</th>\n",
       "      <td>2025-03-31</td>\n",
       "      <td>Green Tea Extract</td>\n",
       "      <td>Fat Burner</td>\n",
       "      <td>139</td>\n",
       "      <td>204</td>\n",
       "      <td>28356</td>\n",
       "      <td>12</td>\n",
       "      <td>3</td>\n",
       "      <td>USA</td>\n",
       "      <td>iHerb</td>\n",
       "    </tr>\n",
       "    <tr>\n",
       "      <th>4382</th>\n",
       "      <td>2025-03-31</td>\n",
       "      <td>Iron Supplement</td>\n",
       "      <td>Mineral</td>\n",
       "      <td>154</td>\n",
       "      <td>1831</td>\n",
       "      <td>281974</td>\n",
       "      <td>23</td>\n",
       "      <td>2</td>\n",
       "      <td>Canada</td>\n",
       "      <td>Amazon</td>\n",
       "    </tr>\n",
       "    <tr>\n",
       "      <th>4383</th>\n",
       "      <td>2025-03-31</td>\n",
       "      <td>Electrolyte Powder</td>\n",
       "      <td>Hydration</td>\n",
       "      <td>178</td>\n",
       "      <td>3912</td>\n",
       "      <td>696336</td>\n",
       "      <td>23</td>\n",
       "      <td>0</td>\n",
       "      <td>UK</td>\n",
       "      <td>iHerb</td>\n",
       "    </tr>\n",
       "  </tbody>\n",
       "</table>\n",
       "</div>"
      ],
      "text/plain": [
       "           Date        Product Name    Category  Units Sold  Price  Revenue  \\\n",
       "4379 2025-03-31           Melatonin   Sleep Aid         160   4779    76464   \n",
       "4380 2025-03-31              Biotin     Vitamin         154   3812   587048   \n",
       "4381 2025-03-31   Green Tea Extract  Fat Burner         139    204    28356   \n",
       "4382 2025-03-31     Iron Supplement     Mineral         154   1831   281974   \n",
       "4383 2025-03-31  Electrolyte Powder   Hydration         178   3912   696336   \n",
       "\n",
       "      Discount  Units Returned Location Platform  \n",
       "4379        21               1      USA    iHerb  \n",
       "4380        22               1       UK  Walmart  \n",
       "4381        12               3      USA    iHerb  \n",
       "4382        23               2   Canada   Amazon  \n",
       "4383        23               0       UK    iHerb  "
      ]
     },
     "execution_count": 3,
     "metadata": {},
     "output_type": "execute_result"
    }
   ],
   "source": [
    "df.tail()"
   ]
  },
  {
   "cell_type": "markdown",
   "metadata": {},
   "source": [
    "### Assessing Data"
   ]
  },
  {
   "cell_type": "markdown",
   "metadata": {},
   "source": [
    "**Menampilkan informasi data**"
   ]
  },
  {
   "cell_type": "code",
   "execution_count": null,
   "metadata": {},
   "outputs": [
    {
     "name": "stdout",
     "output_type": "stream",
     "text": [
      "<class 'pandas.core.frame.DataFrame'>\n",
      "RangeIndex: 4384 entries, 0 to 4383\n",
      "Data columns (total 10 columns):\n",
      " #   Column          Non-Null Count  Dtype         \n",
      "---  ------          --------------  -----         \n",
      " 0   Date            4384 non-null   datetime64[ns]\n",
      " 1   Product Name    4384 non-null   object        \n",
      " 2   Category        4384 non-null   object        \n",
      " 3   Units Sold      4384 non-null   int64         \n",
      " 4   Price           4384 non-null   int64         \n",
      " 5   Revenue         4384 non-null   int64         \n",
      " 6   Discount        4384 non-null   int64         \n",
      " 7   Units Returned  4384 non-null   int64         \n",
      " 8   Location        4384 non-null   object        \n",
      " 9   Platform        4384 non-null   object        \n",
      "dtypes: datetime64[ns](1), int64(5), object(4)\n",
      "memory usage: 342.6+ KB\n"
     ]
    }
   ],
   "source": [
    "df.info()"
   ]
  },
  {
   "cell_type": "markdown",
   "metadata": {},
   "source": [
    "**Melihat Statistik dari Data**"
   ]
  },
  {
   "cell_type": "code",
   "execution_count": null,
   "metadata": {},
   "outputs": [
    {
     "data": {
      "text/html": [
       "<div>\n",
       "<style scoped>\n",
       "    .dataframe tbody tr th:only-of-type {\n",
       "        vertical-align: middle;\n",
       "    }\n",
       "\n",
       "    .dataframe tbody tr th {\n",
       "        vertical-align: top;\n",
       "    }\n",
       "\n",
       "    .dataframe thead th {\n",
       "        text-align: right;\n",
       "    }\n",
       "</style>\n",
       "<table border=\"1\" class=\"dataframe\">\n",
       "  <thead>\n",
       "    <tr style=\"text-align: right;\">\n",
       "      <th></th>\n",
       "      <th>Date</th>\n",
       "      <th>Units Sold</th>\n",
       "      <th>Price</th>\n",
       "      <th>Revenue</th>\n",
       "      <th>Discount</th>\n",
       "      <th>Units Returned</th>\n",
       "    </tr>\n",
       "  </thead>\n",
       "  <tbody>\n",
       "    <tr>\n",
       "      <th>count</th>\n",
       "      <td>4384</td>\n",
       "      <td>4384.000000</td>\n",
       "      <td>4384.000000</td>\n",
       "      <td>4.384000e+03</td>\n",
       "      <td>4384.000000</td>\n",
       "      <td>4384.000000</td>\n",
       "    </tr>\n",
       "    <tr>\n",
       "      <th>mean</th>\n",
       "      <td>2022-08-18 12:00:00</td>\n",
       "      <td>150.200274</td>\n",
       "      <td>3178.014827</td>\n",
       "      <td>3.939742e+05</td>\n",
       "      <td>11.351734</td>\n",
       "      <td>1.531478</td>\n",
       "    </tr>\n",
       "    <tr>\n",
       "      <th>min</th>\n",
       "      <td>2020-01-06 00:00:00</td>\n",
       "      <td>103.000000</td>\n",
       "      <td>100.000000</td>\n",
       "      <td>1.284000e+04</td>\n",
       "      <td>0.000000</td>\n",
       "      <td>0.000000</td>\n",
       "    </tr>\n",
       "    <tr>\n",
       "      <th>25%</th>\n",
       "      <td>2021-04-26 00:00:00</td>\n",
       "      <td>142.000000</td>\n",
       "      <td>1856.000000</td>\n",
       "      <td>8.488325e+04</td>\n",
       "      <td>4.000000</td>\n",
       "      <td>1.000000</td>\n",
       "    </tr>\n",
       "    <tr>\n",
       "      <th>50%</th>\n",
       "      <td>2022-08-18 12:00:00</td>\n",
       "      <td>150.000000</td>\n",
       "      <td>3243.500000</td>\n",
       "      <td>3.855060e+05</td>\n",
       "      <td>11.000000</td>\n",
       "      <td>1.000000</td>\n",
       "    </tr>\n",
       "    <tr>\n",
       "      <th>75%</th>\n",
       "      <td>2023-12-11 00:00:00</td>\n",
       "      <td>158.000000</td>\n",
       "      <td>4531.500000</td>\n",
       "      <td>6.265555e+05</td>\n",
       "      <td>18.000000</td>\n",
       "      <td>2.000000</td>\n",
       "    </tr>\n",
       "    <tr>\n",
       "      <th>max</th>\n",
       "      <td>2025-03-31 00:00:00</td>\n",
       "      <td>194.000000</td>\n",
       "      <td>5997.000000</td>\n",
       "      <td>1.076185e+06</td>\n",
       "      <td>25.000000</td>\n",
       "      <td>8.000000</td>\n",
       "    </tr>\n",
       "    <tr>\n",
       "      <th>std</th>\n",
       "      <td>NaN</td>\n",
       "      <td>12.396099</td>\n",
       "      <td>1629.815862</td>\n",
       "      <td>2.795328e+05</td>\n",
       "      <td>7.616277</td>\n",
       "      <td>1.258479</td>\n",
       "    </tr>\n",
       "  </tbody>\n",
       "</table>\n",
       "</div>"
      ],
      "text/plain": [
       "                      Date   Units Sold        Price       Revenue  \\\n",
       "count                 4384  4384.000000  4384.000000  4.384000e+03   \n",
       "mean   2022-08-18 12:00:00   150.200274  3178.014827  3.939742e+05   \n",
       "min    2020-01-06 00:00:00   103.000000   100.000000  1.284000e+04   \n",
       "25%    2021-04-26 00:00:00   142.000000  1856.000000  8.488325e+04   \n",
       "50%    2022-08-18 12:00:00   150.000000  3243.500000  3.855060e+05   \n",
       "75%    2023-12-11 00:00:00   158.000000  4531.500000  6.265555e+05   \n",
       "max    2025-03-31 00:00:00   194.000000  5997.000000  1.076185e+06   \n",
       "std                    NaN    12.396099  1629.815862  2.795328e+05   \n",
       "\n",
       "          Discount  Units Returned  \n",
       "count  4384.000000     4384.000000  \n",
       "mean     11.351734        1.531478  \n",
       "min       0.000000        0.000000  \n",
       "25%       4.000000        1.000000  \n",
       "50%      11.000000        1.000000  \n",
       "75%      18.000000        2.000000  \n",
       "max      25.000000        8.000000  \n",
       "std       7.616277        1.258479  "
      ]
     },
     "execution_count": 5,
     "metadata": {},
     "output_type": "execute_result"
    }
   ],
   "source": [
    "df.describe()"
   ]
  },
  {
   "cell_type": "markdown",
   "metadata": {},
   "source": [
    "**Memastikan Data tidak ada yang Null**"
   ]
  },
  {
   "cell_type": "code",
   "execution_count": null,
   "metadata": {},
   "outputs": [
    {
     "data": {
      "text/plain": [
       "Date              0\n",
       "Product Name      0\n",
       "Category          0\n",
       "Units Sold        0\n",
       "Price             0\n",
       "Revenue           0\n",
       "Discount          0\n",
       "Units Returned    0\n",
       "Location          0\n",
       "Platform          0\n",
       "dtype: int64"
      ]
     },
     "execution_count": 6,
     "metadata": {},
     "output_type": "execute_result"
    }
   ],
   "source": [
    "df.isnull().sum()"
   ]
  },
  {
   "cell_type": "markdown",
   "metadata": {},
   "source": [
    "**Memastikan Data tidak ada yang duplikat**"
   ]
  },
  {
   "cell_type": "code",
   "execution_count": null,
   "metadata": {},
   "outputs": [
    {
     "data": {
      "text/plain": [
       "0"
      ]
     },
     "execution_count": 7,
     "metadata": {},
     "output_type": "execute_result"
    }
   ],
   "source": [
    "df.duplicated().sum()"
   ]
  },
  {
   "cell_type": "markdown",
   "metadata": {},
   "source": [
    "## Exploratory Data Analysis"
   ]
  },
  {
   "cell_type": "markdown",
   "metadata": {},
   "source": [
    "### Analisis Rata-Rata Units Sold selama 3 Bulan ke Belakang di Tahun 2025 (January - Maret)"
   ]
  },
  {
   "cell_type": "markdown",
   "metadata": {},
   "source": [
    "**Memfilter Data Units Sold 2025 Awal hingga Maret**"
   ]
  },
  {
   "cell_type": "code",
   "execution_count": null,
   "metadata": {},
   "outputs": [
    {
     "data": {
      "text/html": [
       "<div>\n",
       "<style scoped>\n",
       "    .dataframe tbody tr th:only-of-type {\n",
       "        vertical-align: middle;\n",
       "    }\n",
       "\n",
       "    .dataframe tbody tr th {\n",
       "        vertical-align: top;\n",
       "    }\n",
       "\n",
       "    .dataframe thead th {\n",
       "        text-align: right;\n",
       "    }\n",
       "</style>\n",
       "<table border=\"1\" class=\"dataframe\">\n",
       "  <thead>\n",
       "    <tr style=\"text-align: right;\">\n",
       "      <th></th>\n",
       "      <th>Date</th>\n",
       "      <th>Product Name</th>\n",
       "      <th>Category</th>\n",
       "      <th>Units Sold</th>\n",
       "      <th>Price</th>\n",
       "      <th>Revenue</th>\n",
       "      <th>Discount</th>\n",
       "      <th>Units Returned</th>\n",
       "      <th>Location</th>\n",
       "      <th>Platform</th>\n",
       "    </tr>\n",
       "  </thead>\n",
       "  <tbody>\n",
       "    <tr>\n",
       "      <th>0</th>\n",
       "      <td>2025-01-06</td>\n",
       "      <td>Vitamin C</td>\n",
       "      <td>Vitamin</td>\n",
       "      <td>139</td>\n",
       "      <td>4861</td>\n",
       "      <td>675679</td>\n",
       "      <td>6</td>\n",
       "      <td>0</td>\n",
       "      <td>USA</td>\n",
       "      <td>Walmart</td>\n",
       "    </tr>\n",
       "    <tr>\n",
       "      <th>1</th>\n",
       "      <td>2025-01-06</td>\n",
       "      <td>Multivitamin</td>\n",
       "      <td>Vitamin</td>\n",
       "      <td>151</td>\n",
       "      <td>1566</td>\n",
       "      <td>236466</td>\n",
       "      <td>5</td>\n",
       "      <td>4</td>\n",
       "      <td>Canada</td>\n",
       "      <td>Amazon</td>\n",
       "    </tr>\n",
       "    <tr>\n",
       "      <th>2</th>\n",
       "      <td>2025-01-06</td>\n",
       "      <td>Biotin</td>\n",
       "      <td>Vitamin</td>\n",
       "      <td>186</td>\n",
       "      <td>3388</td>\n",
       "      <td>630168</td>\n",
       "      <td>2</td>\n",
       "      <td>2</td>\n",
       "      <td>USA</td>\n",
       "      <td>Walmart</td>\n",
       "    </tr>\n",
       "    <tr>\n",
       "      <th>3</th>\n",
       "      <td>2025-01-13</td>\n",
       "      <td>Vitamin C</td>\n",
       "      <td>Vitamin</td>\n",
       "      <td>160</td>\n",
       "      <td>5642</td>\n",
       "      <td>90272</td>\n",
       "      <td>7</td>\n",
       "      <td>1</td>\n",
       "      <td>Canada</td>\n",
       "      <td>Walmart</td>\n",
       "    </tr>\n",
       "    <tr>\n",
       "      <th>4</th>\n",
       "      <td>2025-01-13</td>\n",
       "      <td>Multivitamin</td>\n",
       "      <td>Vitamin</td>\n",
       "      <td>159</td>\n",
       "      <td>3761</td>\n",
       "      <td>597999</td>\n",
       "      <td>0</td>\n",
       "      <td>2</td>\n",
       "      <td>Canada</td>\n",
       "      <td>Amazon</td>\n",
       "    </tr>\n",
       "  </tbody>\n",
       "</table>\n",
       "</div>"
      ],
      "text/plain": [
       "        Date  Product Name Category  Units Sold  Price  Revenue  Discount  \\\n",
       "0 2025-01-06     Vitamin C  Vitamin         139   4861   675679         6   \n",
       "1 2025-01-06  Multivitamin  Vitamin         151   1566   236466         5   \n",
       "2 2025-01-06        Biotin  Vitamin         186   3388   630168         2   \n",
       "3 2025-01-13     Vitamin C  Vitamin         160   5642    90272         7   \n",
       "4 2025-01-13  Multivitamin  Vitamin         159   3761   597999         0   \n",
       "\n",
       "   Units Returned Location Platform  \n",
       "0               0      USA  Walmart  \n",
       "1               4   Canada   Amazon  \n",
       "2               2      USA  Walmart  \n",
       "3               1   Canada  Walmart  \n",
       "4               2   Canada   Amazon  "
      ]
     },
     "execution_count": 8,
     "metadata": {},
     "output_type": "execute_result"
    }
   ],
   "source": [
    "df_periode_2025 = df[df['Date'] >= '2025-01-01']\n",
    "df_periode_2025 = df_periode_2025[df_periode_2025['Category'] == 'Vitamin'].reset_index()\n",
    "df_periode_2025 = df_periode_2025.drop('index', axis=1)\n",
    "df_periode_2025.head()"
   ]
  },
  {
   "cell_type": "markdown",
   "metadata": {},
   "source": [
    "**Menghitung Frekuensi Units Sold Periode Januari-Maret 2025**"
   ]
  },
  {
   "cell_type": "code",
   "execution_count": null,
   "metadata": {},
   "outputs": [
    {
     "name": "stdout",
     "output_type": "stream",
     "text": [
      "Rata-Rata Units Sold dengan produk Berkategori Vitamin : 147\n"
     ]
    }
   ],
   "source": [
    "print(f\"Rata-Rata Units Sold dengan produk Berkategori Vitamin : {np.mean(df_periode_2025['Units Sold']):.0f}\")"
   ]
  },
  {
   "cell_type": "markdown",
   "metadata": {},
   "source": [
    "### Analisis Rata-Rata Units Sold selama 3 Bulan ke Depan"
   ]
  },
  {
   "cell_type": "code",
   "execution_count": null,
   "metadata": {},
   "outputs": [
    {
     "name": "stdout",
     "output_type": "stream",
     "text": [
      "Total produk yang berkategori Vitamin : 822 baris\n"
     ]
    }
   ],
   "source": [
    "df_vitamin = df[df['Category'] == 'Vitamin'].reset_index()\n",
    "df_vitamin = df_vitamin.drop('index', axis=1)\n",
    "df_vitamin.head()\n",
    "print(f'Total produk yang berkategori Vitamin : {df_vitamin.shape[0]} baris')"
   ]
  },
  {
   "cell_type": "markdown",
   "metadata": {},
   "source": [
    "**Menghitung Frekuensi Units Sold yang Bernilai Unik**"
   ]
  },
  {
   "cell_type": "code",
   "execution_count": null,
   "metadata": {},
   "outputs": [
    {
     "data": {
      "text/html": [
       "<div>\n",
       "<style scoped>\n",
       "    .dataframe tbody tr th:only-of-type {\n",
       "        vertical-align: middle;\n",
       "    }\n",
       "\n",
       "    .dataframe tbody tr th {\n",
       "        vertical-align: top;\n",
       "    }\n",
       "\n",
       "    .dataframe thead th {\n",
       "        text-align: right;\n",
       "    }\n",
       "</style>\n",
       "<table border=\"1\" class=\"dataframe\">\n",
       "  <thead>\n",
       "    <tr style=\"text-align: right;\">\n",
       "      <th></th>\n",
       "      <th>Units Sold</th>\n",
       "      <th>Frequency</th>\n",
       "    </tr>\n",
       "  </thead>\n",
       "  <tbody>\n",
       "    <tr>\n",
       "      <th>0</th>\n",
       "      <td>103</td>\n",
       "      <td>1</td>\n",
       "    </tr>\n",
       "    <tr>\n",
       "      <th>1</th>\n",
       "      <td>109</td>\n",
       "      <td>1</td>\n",
       "    </tr>\n",
       "    <tr>\n",
       "      <th>2</th>\n",
       "      <td>114</td>\n",
       "      <td>1</td>\n",
       "    </tr>\n",
       "    <tr>\n",
       "      <th>3</th>\n",
       "      <td>116</td>\n",
       "      <td>1</td>\n",
       "    </tr>\n",
       "    <tr>\n",
       "      <th>4</th>\n",
       "      <td>117</td>\n",
       "      <td>1</td>\n",
       "    </tr>\n",
       "  </tbody>\n",
       "</table>\n",
       "</div>"
      ],
      "text/plain": [
       "   Units Sold  Frequency\n",
       "0         103          1\n",
       "1         109          1\n",
       "2         114          1\n",
       "3         116          1\n",
       "4         117          1"
      ]
     },
     "execution_count": 11,
     "metadata": {},
     "output_type": "execute_result"
    }
   ],
   "source": [
    "units_sold_freq = df_vitamin['Units Sold'].value_counts().sort_index().reset_index()\n",
    "units_sold_freq.columns = ['Units Sold', 'Frequency']\n",
    "units_sold_freq.head()"
   ]
  },
  {
   "cell_type": "markdown",
   "metadata": {},
   "source": [
    "**Menghitung Probabilitas dari Units Sold**"
   ]
  },
  {
   "cell_type": "code",
   "execution_count": null,
   "metadata": {},
   "outputs": [
    {
     "data": {
      "text/html": [
       "<div>\n",
       "<style scoped>\n",
       "    .dataframe tbody tr th:only-of-type {\n",
       "        vertical-align: middle;\n",
       "    }\n",
       "\n",
       "    .dataframe tbody tr th {\n",
       "        vertical-align: top;\n",
       "    }\n",
       "\n",
       "    .dataframe thead th {\n",
       "        text-align: right;\n",
       "    }\n",
       "</style>\n",
       "<table border=\"1\" class=\"dataframe\">\n",
       "  <thead>\n",
       "    <tr style=\"text-align: right;\">\n",
       "      <th></th>\n",
       "      <th>Units Sold</th>\n",
       "      <th>Frequency</th>\n",
       "      <th>Probability</th>\n",
       "    </tr>\n",
       "  </thead>\n",
       "  <tbody>\n",
       "    <tr>\n",
       "      <th>0</th>\n",
       "      <td>103</td>\n",
       "      <td>1</td>\n",
       "      <td>0.001217</td>\n",
       "    </tr>\n",
       "    <tr>\n",
       "      <th>1</th>\n",
       "      <td>109</td>\n",
       "      <td>1</td>\n",
       "      <td>0.001217</td>\n",
       "    </tr>\n",
       "    <tr>\n",
       "      <th>2</th>\n",
       "      <td>114</td>\n",
       "      <td>1</td>\n",
       "      <td>0.001217</td>\n",
       "    </tr>\n",
       "    <tr>\n",
       "      <th>3</th>\n",
       "      <td>116</td>\n",
       "      <td>1</td>\n",
       "      <td>0.001217</td>\n",
       "    </tr>\n",
       "    <tr>\n",
       "      <th>4</th>\n",
       "      <td>117</td>\n",
       "      <td>1</td>\n",
       "      <td>0.001217</td>\n",
       "    </tr>\n",
       "  </tbody>\n",
       "</table>\n",
       "</div>"
      ],
      "text/plain": [
       "   Units Sold  Frequency  Probability\n",
       "0         103          1     0.001217\n",
       "1         109          1     0.001217\n",
       "2         114          1     0.001217\n",
       "3         116          1     0.001217\n",
       "4         117          1     0.001217"
      ]
     },
     "execution_count": 12,
     "metadata": {},
     "output_type": "execute_result"
    }
   ],
   "source": [
    "units_sold_freq['Probability'] = units_sold_freq['Frequency'] / units_sold_freq['Frequency'].sum()\n",
    "units_sold_freq.head()"
   ]
  },
  {
   "cell_type": "markdown",
   "metadata": {},
   "source": [
    "**Menghitung Kumulatif Probabilitas**"
   ]
  },
  {
   "cell_type": "code",
   "execution_count": null,
   "metadata": {},
   "outputs": [],
   "source": [
    "units_sold_freq['Cumulative Probability'] = units_sold_freq['Probability'].cumsum()"
   ]
  },
  {
   "cell_type": "markdown",
   "metadata": {},
   "source": [
    "**Menampilkan Kumulatif Probabilitas 5 Baris Pertama**"
   ]
  },
  {
   "cell_type": "code",
   "execution_count": null,
   "metadata": {},
   "outputs": [
    {
     "data": {
      "text/html": [
       "<div>\n",
       "<style scoped>\n",
       "    .dataframe tbody tr th:only-of-type {\n",
       "        vertical-align: middle;\n",
       "    }\n",
       "\n",
       "    .dataframe tbody tr th {\n",
       "        vertical-align: top;\n",
       "    }\n",
       "\n",
       "    .dataframe thead th {\n",
       "        text-align: right;\n",
       "    }\n",
       "</style>\n",
       "<table border=\"1\" class=\"dataframe\">\n",
       "  <thead>\n",
       "    <tr style=\"text-align: right;\">\n",
       "      <th></th>\n",
       "      <th>Units Sold</th>\n",
       "      <th>Frequency</th>\n",
       "      <th>Probability</th>\n",
       "      <th>Cumulative Probability</th>\n",
       "    </tr>\n",
       "  </thead>\n",
       "  <tbody>\n",
       "    <tr>\n",
       "      <th>0</th>\n",
       "      <td>103</td>\n",
       "      <td>1</td>\n",
       "      <td>0.001217</td>\n",
       "      <td>0.001217</td>\n",
       "    </tr>\n",
       "    <tr>\n",
       "      <th>1</th>\n",
       "      <td>109</td>\n",
       "      <td>1</td>\n",
       "      <td>0.001217</td>\n",
       "      <td>0.002433</td>\n",
       "    </tr>\n",
       "    <tr>\n",
       "      <th>2</th>\n",
       "      <td>114</td>\n",
       "      <td>1</td>\n",
       "      <td>0.001217</td>\n",
       "      <td>0.003650</td>\n",
       "    </tr>\n",
       "    <tr>\n",
       "      <th>3</th>\n",
       "      <td>116</td>\n",
       "      <td>1</td>\n",
       "      <td>0.001217</td>\n",
       "      <td>0.004866</td>\n",
       "    </tr>\n",
       "    <tr>\n",
       "      <th>4</th>\n",
       "      <td>117</td>\n",
       "      <td>1</td>\n",
       "      <td>0.001217</td>\n",
       "      <td>0.006083</td>\n",
       "    </tr>\n",
       "  </tbody>\n",
       "</table>\n",
       "</div>"
      ],
      "text/plain": [
       "   Units Sold  Frequency  Probability  Cumulative Probability\n",
       "0         103          1     0.001217                0.001217\n",
       "1         109          1     0.001217                0.002433\n",
       "2         114          1     0.001217                0.003650\n",
       "3         116          1     0.001217                0.004866\n",
       "4         117          1     0.001217                0.006083"
      ]
     },
     "execution_count": 14,
     "metadata": {},
     "output_type": "execute_result"
    }
   ],
   "source": [
    "df_simulasi = units_sold_freq\n",
    "df_simulasi.head()"
   ]
  },
  {
   "cell_type": "markdown",
   "metadata": {},
   "source": [
    "**Menampilkan Kumulatif Probabilitas dari 5 Baris Terakhir**"
   ]
  },
  {
   "cell_type": "code",
   "execution_count": null,
   "metadata": {},
   "outputs": [
    {
     "data": {
      "text/html": [
       "<div>\n",
       "<style scoped>\n",
       "    .dataframe tbody tr th:only-of-type {\n",
       "        vertical-align: middle;\n",
       "    }\n",
       "\n",
       "    .dataframe tbody tr th {\n",
       "        vertical-align: top;\n",
       "    }\n",
       "\n",
       "    .dataframe thead th {\n",
       "        text-align: right;\n",
       "    }\n",
       "</style>\n",
       "<table border=\"1\" class=\"dataframe\">\n",
       "  <thead>\n",
       "    <tr style=\"text-align: right;\">\n",
       "      <th></th>\n",
       "      <th>Units Sold</th>\n",
       "      <th>Frequency</th>\n",
       "      <th>Probability</th>\n",
       "      <th>Cumulative Probability</th>\n",
       "    </tr>\n",
       "  </thead>\n",
       "  <tbody>\n",
       "    <tr>\n",
       "      <th>67</th>\n",
       "      <td>182</td>\n",
       "      <td>1</td>\n",
       "      <td>0.001217</td>\n",
       "      <td>0.990268</td>\n",
       "    </tr>\n",
       "    <tr>\n",
       "      <th>68</th>\n",
       "      <td>183</td>\n",
       "      <td>2</td>\n",
       "      <td>0.002433</td>\n",
       "      <td>0.992701</td>\n",
       "    </tr>\n",
       "    <tr>\n",
       "      <th>69</th>\n",
       "      <td>184</td>\n",
       "      <td>3</td>\n",
       "      <td>0.003650</td>\n",
       "      <td>0.996350</td>\n",
       "    </tr>\n",
       "    <tr>\n",
       "      <th>70</th>\n",
       "      <td>185</td>\n",
       "      <td>2</td>\n",
       "      <td>0.002433</td>\n",
       "      <td>0.998783</td>\n",
       "    </tr>\n",
       "    <tr>\n",
       "      <th>71</th>\n",
       "      <td>186</td>\n",
       "      <td>1</td>\n",
       "      <td>0.001217</td>\n",
       "      <td>1.000000</td>\n",
       "    </tr>\n",
       "  </tbody>\n",
       "</table>\n",
       "</div>"
      ],
      "text/plain": [
       "    Units Sold  Frequency  Probability  Cumulative Probability\n",
       "67         182          1     0.001217                0.990268\n",
       "68         183          2     0.002433                0.992701\n",
       "69         184          3     0.003650                0.996350\n",
       "70         185          2     0.002433                0.998783\n",
       "71         186          1     0.001217                1.000000"
      ]
     },
     "execution_count": 15,
     "metadata": {},
     "output_type": "execute_result"
    }
   ],
   "source": [
    "df_simulasi.tail()"
   ]
  },
  {
   "cell_type": "markdown",
   "metadata": {},
   "source": [
    "## Simulasi Monte Carlo"
   ]
  },
  {
   "cell_type": "markdown",
   "metadata": {},
   "source": [
    "**Membuat Bilangan Acak**"
   ]
  },
  {
   "cell_type": "code",
   "execution_count": null,
   "metadata": {},
   "outputs": [],
   "source": [
    "# Menetukan jumlah simulasi dan memprediksi Units Sold selama 3 bulan ke depan (12 minggu)\n",
    "n_simulasi = 100\n",
    "minggu = 12"
   ]
  },
  {
   "cell_type": "code",
   "execution_count": null,
   "metadata": {},
   "outputs": [],
   "source": [
    "# Membuat bilangan acak\n",
    "bil_acak = np.random.rand(n_simulasi, minggu)"
   ]
  },
  {
   "cell_type": "markdown",
   "metadata": {},
   "source": [
    "**Mapping Bilangan Acak ke Interval Kelas**"
   ]
  },
  {
   "cell_type": "code",
   "execution_count": null,
   "metadata": {},
   "outputs": [],
   "source": [
    "# Membuat fungsi untuk mapping\n",
    "def map_to_units_sold(random_number, dataframe):\n",
    "    return dataframe.loc[dataframe['Cumulative Probability'] >= random_number, 'Units Sold'].iloc[0]"
   ]
  },
  {
   "cell_type": "code",
   "execution_count": null,
   "metadata": {},
   "outputs": [],
   "source": [
    "# Melakukan simulasi\n",
    "simulasi = np.zeros((n_simulasi, minggu), dtype=int)\n",
    "\n",
    "for i in range(n_simulasi):\n",
    "    for j in range(minggu):\n",
    "        simulasi[i, j] = map_to_units_sold(bil_acak[i, j], df_simulasi)"
   ]
  },
  {
   "cell_type": "code",
   "execution_count": null,
   "metadata": {},
   "outputs": [],
   "source": [
    "# Hitung total units sold simulasi\n",
    "total_per_simulasi = simulasi.sum(axis=1)"
   ]
  },
  {
   "cell_type": "code",
   "execution_count": null,
   "metadata": {},
   "outputs": [
    {
     "name": "stdout",
     "output_type": "stream",
     "text": [
      "Rata-rata simulasi untuk Units Sold selama 3 bulan : 1801\n"
     ]
    }
   ],
   "source": [
    "# Hitung rata-rata penjualan selama 3 bulan\n",
    "rata_rata_simulasi = np.mean(total_per_simulasi)\n",
    "print(f'Rata-rata simulasi untuk Units Sold selama {minggu/4:.0f} bulan : {rata_rata_simulasi:.0f}')"
   ]
  },
  {
   "cell_type": "markdown",
   "metadata": {},
   "source": [
    "**Grafik Distribusi Units Sold dari Produk dengan Kategori Vitamin**"
   ]
  },
  {
   "cell_type": "code",
   "execution_count": null,
   "metadata": {},
   "outputs": [
    {
     "data": {
      "image/png": "[encoded data removed]",
      "text/plain": [
       "<Figure size 640x480 with 1 Axes>"
      ]
     },
     "metadata": {},
     "output_type": "display_data"
    }
   ],
   "source": [
    "plt.hist(total_per_simulasi, bins=30, edgecolor='blue')\n",
    "plt.title(f'Distribusi Total Units Sold selama {minggu/4:.0f} Bulan ke Depan')\n",
    "plt.xlabel('Total Units Sold')\n",
    "plt.ylabel('Frekuensi')\n",
    "plt.show()"
   ]
  },
  {
   "cell_type": "code",
   "execution_count": null,
   "metadata": {},
   "outputs": [],
   "source": []
  }
 ],
 "metadata": {
  "kernelspec": {
   "display_name": "Python 3.12.7 ('base')",
   "language": "python",
   "name": "python3"
  },
  "language_info": {
   "codemirror_mode": {
    "name": "ipython",
    "version": 3
   },
   "file_extension": ".py",
   "mimetype": "text/x-python",
   "name": "python",
   "nbconvert_exporter": "python",
   "pygments_lexer": "ipython3",
   "version": "3.12.7"
  },
  "orig_nbformat": 4,
  "vscode": {
   "interpreter": {
    "hash": "813e16546b589a3d64d9bd0b5eddaa4cac11b6668dfe9b29a074754c88a60ee5"
   }
  }
 },
 "nbformat": 4,
 "nbformat_minor": 2
}
